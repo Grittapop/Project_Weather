{
 "cells": [
  {
   "cell_type": "code",
   "execution_count": 15,
   "metadata": {},
   "outputs": [],
   "source": [
    "import pandas as pd\n",
    "import requests"
   ]
  },
  {
   "cell_type": "code",
   "execution_count": 53,
   "metadata": {},
   "outputs": [
    {
     "data": {
      "text/plain": [
       "{'coord': {'lon': 100.5167, 'lat': 13.75},\n",
       " 'weather': [{'id': 801,\n",
       "   'main': 'Clouds',\n",
       "   'description': 'few clouds',\n",
       "   'icon': '02d'}],\n",
       " 'base': 'stations',\n",
       " 'main': {'temp': 306.13,\n",
       "  'feels_like': 313.13,\n",
       "  'temp_min': 305.32,\n",
       "  'temp_max': 309.77,\n",
       "  'pressure': 1010,\n",
       "  'humidity': 69,\n",
       "  'sea_level': 1010,\n",
       "  'grnd_level': 1009},\n",
       " 'visibility': 10000,\n",
       " 'wind': {'speed': 4.01, 'deg': 189, 'gust': 3.52},\n",
       " 'clouds': {'all': 11},\n",
       " 'dt': 1707373667,\n",
       " 'sys': {'type': 2,\n",
       "  'id': 2032756,\n",
       "  'country': 'TH',\n",
       "  'sunrise': 1707349432,\n",
       "  'sunset': 1707391221},\n",
       " 'timezone': 25200,\n",
       " 'id': 1609350,\n",
       " 'name': 'Bangkok',\n",
       " 'cod': 200}"
      ]
     },
     "execution_count": 53,
     "metadata": {},
     "output_type": "execute_result"
    }
   ],
   "source": [
    "\n",
    "url =\"https://api.openweathermap.org/data/2.5/weather?q=Bangkok&appid=d69585a88935d2a759a90a77d406e260\"\n",
    "\n",
    "r = requests.get(url)\n",
    "weather = r.json()\n",
    "weather\n",
    "   "
   ]
  },
  {
   "cell_type": "code",
   "execution_count": null,
   "metadata": {},
   "outputs": [],
   "source": []
  },
  {
   "cell_type": "code",
   "execution_count": null,
   "metadata": {},
   "outputs": [
    {
     "name": "stdout",
     "output_type": "stream",
     "text": [
      "0               Azadshahr\n",
      "1                Protaras\n",
      "2                  Kahriz\n",
      "3                 Nurabad\n",
      "4        Istgah-e Garmsar\n",
      "               ...       \n",
      "22630        PAJOK Pogee,\n",
      "22631        Magwi County\n",
      "22632       Shanjeev Home\n",
      "22633         Svetlogorsk\n",
      "22634           Голубинка\n",
      "Name: name, Length: 22635, dtype: object\n"
     ]
    }
   ],
   "source": [
    "\n",
    "\n"
   ]
  },
  {
   "cell_type": "code",
   "execution_count": null,
   "metadata": {},
   "outputs": [],
   "source": [
    "data = df\n",
    "city = data[\"name\"]\n",
    "print(city)"
   ]
  },
  {
   "cell_type": "code",
   "execution_count": null,
   "metadata": {},
   "outputs": [],
   "source": []
  },
  {
   "cell_type": "code",
   "execution_count": null,
   "metadata": {},
   "outputs": [],
   "source": []
  },
  {
   "cell_type": "code",
   "execution_count": null,
   "metadata": {},
   "outputs": [],
   "source": []
  },
  {
   "cell_type": "code",
   "execution_count": null,
   "metadata": {},
   "outputs": [],
   "source": []
  },
  {
   "cell_type": "code",
   "execution_count": null,
   "metadata": {},
   "outputs": [],
   "source": []
  }
 ],
 "metadata": {
  "kernelspec": {
   "display_name": "Python 3",
   "language": "python",
   "name": "python3"
  },
  "language_info": {
   "codemirror_mode": {
    "name": "ipython",
    "version": 3
   },
   "file_extension": ".py",
   "mimetype": "text/x-python",
   "name": "python",
   "nbconvert_exporter": "python",
   "pygments_lexer": "ipython3",
   "version": "3.11.8"
  }
 },
 "nbformat": 4,
 "nbformat_minor": 2
}
