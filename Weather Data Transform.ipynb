{
 "cells": [
  {
   "cell_type": "code",
   "execution_count": 50,
   "metadata": {},
   "outputs": [],
   "source": [
    "from datetime import datetime\n",
    "import pandas as pd\n",
    "import requests"
   ]
  },
  {
   "cell_type": "code",
   "execution_count": 3,
   "metadata": {},
   "outputs": [
    {
     "data": {
      "text/plain": [
       "{'coord': {'lon': 100.5167, 'lat': 13.75},\n",
       " 'weather': [{'id': 800,\n",
       "   'main': 'Clear',\n",
       "   'description': 'clear sky',\n",
       "   'icon': '01d'}],\n",
       " 'base': 'stations',\n",
       " 'main': {'temp': 309.88,\n",
       "  'feels_like': 316.88,\n",
       "  'temp_min': 306.09,\n",
       "  'temp_max': 310.33,\n",
       "  'pressure': 1008,\n",
       "  'humidity': 54,\n",
       "  'sea_level': 1008,\n",
       "  'grnd_level': 1007},\n",
       " 'visibility': 10000,\n",
       " 'wind': {'speed': 4.66, 'deg': 180, 'gust': 3.43},\n",
       " 'clouds': {'all': 9},\n",
       " 'dt': 1707377516,\n",
       " 'sys': {'type': 2,\n",
       "  'id': 2090634,\n",
       "  'country': 'TH',\n",
       "  'sunrise': 1707349432,\n",
       "  'sunset': 1707391221},\n",
       " 'timezone': 25200,\n",
       " 'id': 1609350,\n",
       " 'name': 'Bangkok',\n",
       " 'cod': 200}"
      ]
     },
     "execution_count": 3,
     "metadata": {},
     "output_type": "execute_result"
    }
   ],
   "source": [
    "\n",
    "url =\"https://api.openweathermap.org/data/2.5/weather?q=Bangkok&appid=d69585a88935d2a759a90a77d406e260\"\n",
    "\n",
    "r = requests.get(url)\n",
    "weather = r.json()\n",
    "weather\n",
    "   "
   ]
  },
  {
   "cell_type": "code",
   "execution_count": 5,
   "metadata": {},
   "outputs": [],
   "source": [
    "data = weather"
   ]
  },
  {
   "cell_type": "code",
   "execution_count": 9,
   "metadata": {},
   "outputs": [],
   "source": [
    "city = data[\"name\"]"
   ]
  },
  {
   "cell_type": "code",
   "execution_count": 8,
   "metadata": {},
   "outputs": [
    {
     "name": "stdout",
     "output_type": "stream",
     "text": [
      "Bangkok\n"
     ]
    }
   ],
   "source": [
    "print(city)"
   ]
  },
  {
   "cell_type": "code",
   "execution_count": 10,
   "metadata": {},
   "outputs": [],
   "source": [
    "weather_description = data[\"weather\"][0]['description']"
   ]
  },
  {
   "cell_type": "code",
   "execution_count": 11,
   "metadata": {},
   "outputs": [
    {
     "name": "stdout",
     "output_type": "stream",
     "text": [
      "clear sky\n"
     ]
    }
   ],
   "source": [
    "print(weather_description)"
   ]
  },
  {
   "cell_type": "code",
   "execution_count": 21,
   "metadata": {},
   "outputs": [],
   "source": [
    "def kelvin_to_celsius(temp_in_kelvin):\n",
    "    temp_in_celsius = temp_in_kelvin - 273.15\n",
    "    return temp_in_celsius"
   ]
  },
  {
   "cell_type": "code",
   "execution_count": 22,
   "metadata": {},
   "outputs": [],
   "source": [
    "temp_celsius = kelvin_to_celsius(data[\"main\"][\"temp\"])"
   ]
  },
  {
   "cell_type": "code",
   "execution_count": 23,
   "metadata": {},
   "outputs": [
    {
     "name": "stdout",
     "output_type": "stream",
     "text": [
      "36.73000000000002\n"
     ]
    }
   ],
   "source": [
    "print(temp_celsius)"
   ]
  },
  {
   "cell_type": "code",
   "execution_count": 34,
   "metadata": {},
   "outputs": [],
   "source": [
    "feels_like_celsius= kelvin_to_celsius(data[\"main\"][\"feels_like\"])\n",
    "min_temp_celsius = kelvin_to_celsius(data[\"main\"][\"temp_min\"])\n",
    "max_temp_celsius= kelvin_to_celsius(data[\"main\"][\"temp_max\"])"
   ]
  },
  {
   "cell_type": "code",
   "execution_count": 39,
   "metadata": {},
   "outputs": [
    {
     "name": "stdout",
     "output_type": "stream",
     "text": [
      "43.73000000000002\n",
      "32.94\n",
      "37.18000000000001\n"
     ]
    }
   ],
   "source": [
    "print(feels_like_celsius)\n",
    "print(min_temp_celsius)\n",
    "print(max_temp_celsius)"
   ]
  },
  {
   "cell_type": "code",
   "execution_count": 41,
   "metadata": {},
   "outputs": [],
   "source": [
    "pressure = data[\"main\"][\"pressure\"]\n",
    "humidity = data[\"main\"][\"humidity\"]"
   ]
  },
  {
   "cell_type": "code",
   "execution_count": 43,
   "metadata": {},
   "outputs": [
    {
     "name": "stdout",
     "output_type": "stream",
     "text": [
      "1008\n",
      "54\n"
     ]
    }
   ],
   "source": [
    "print(pressure)\n",
    "print(humidity)"
   ]
  },
  {
   "cell_type": "code",
   "execution_count": 44,
   "metadata": {},
   "outputs": [],
   "source": [
    "wind_speed = data[\"wind\"][\"speed\"]"
   ]
  },
  {
   "cell_type": "code",
   "execution_count": 45,
   "metadata": {},
   "outputs": [
    {
     "name": "stdout",
     "output_type": "stream",
     "text": [
      "4.66\n"
     ]
    }
   ],
   "source": [
    "print(wind_speed)"
   ]
  },
  {
   "cell_type": "code",
   "execution_count": 53,
   "metadata": {},
   "outputs": [],
   "source": [
    "time_of_record = datetime.utcfromtimestamp(data['dt'] + data['timezone'])\n",
    "sunrise_time = datetime.utcfromtimestamp(data['sys']['sunrise'] + data['timezone'])\n",
    "sunset_time = datetime.utcfromtimestamp(data['sys']['sunset'] + data['timezone'])"
   ]
  },
  {
   "cell_type": "code",
   "execution_count": 54,
   "metadata": {},
   "outputs": [
    {
     "name": "stdout",
     "output_type": "stream",
     "text": [
      "2024-02-08 14:31:56\n",
      "2024-02-08 06:43:52\n",
      "2024-02-08 18:20:21\n"
     ]
    }
   ],
   "source": [
    "print(time_of_record)\n",
    "print(sunrise_time)\n",
    "print(sunset_time)"
   ]
  }
 ],
 "metadata": {
  "kernelspec": {
   "display_name": "Python 3",
   "language": "python",
   "name": "python3"
  },
  "language_info": {
   "codemirror_mode": {
    "name": "ipython",
    "version": 3
   },
   "file_extension": ".py",
   "mimetype": "text/x-python",
   "name": "python",
   "nbconvert_exporter": "python",
   "pygments_lexer": "ipython3",
   "version": "3.11.8"
  }
 },
 "nbformat": 4,
 "nbformat_minor": 2
}
