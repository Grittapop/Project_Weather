{
 "cells": [
  {
   "cell_type": "code",
   "execution_count": 183,
   "metadata": {},
   "outputs": [],
   "source": [
    "from datetime import datetime\n",
    "import pandas as pd\n",
    "import requests"
   ]
  },
  {
   "cell_type": "code",
   "execution_count": 184,
   "metadata": {},
   "outputs": [
    {
     "data": {
      "text/plain": [
       "{'coord': {'lon': 100.5167, 'lat': 13.75},\n",
       " 'weather': [{'id': 801,\n",
       "   'main': 'Clouds',\n",
       "   'description': 'few clouds',\n",
       "   'icon': '02n'}],\n",
       " 'base': 'stations',\n",
       " 'main': {'temp': 299.84,\n",
       "  'feels_like': 301.49,\n",
       "  'temp_min': 299.22,\n",
       "  'temp_max': 301.09,\n",
       "  'pressure': 1010,\n",
       "  'humidity': 70},\n",
       " 'visibility': 10000,\n",
       " 'wind': {'speed': 4.99, 'deg': 188, 'gust': 9.43},\n",
       " 'clouds': {'all': 24},\n",
       " 'dt': 1707416288,\n",
       " 'sys': {'type': 2,\n",
       "  'id': 2031980,\n",
       "  'country': 'TH',\n",
       "  'sunrise': 1707435815,\n",
       "  'sunset': 1707477644},\n",
       " 'timezone': 25200,\n",
       " 'id': 1609350,\n",
       " 'name': 'Bangkok',\n",
       " 'cod': 200}"
      ]
     },
     "execution_count": 184,
     "metadata": {},
     "output_type": "execute_result"
    }
   ],
   "source": [
    "\n",
    "url =\"https://api.openweathermap.org/data/2.5/weather?q=Bangkok&appid=d69585a88935d2a759a90a77d406e260\"\n",
    "\n",
    "r = requests.get(url)\n",
    "weather = r.json()\n",
    "weather"
   ]
  },
  {
   "cell_type": "code",
   "execution_count": 185,
   "metadata": {},
   "outputs": [],
   "source": [
    "data = weather"
   ]
  },
  {
   "cell_type": "code",
   "execution_count": 186,
   "metadata": {},
   "outputs": [],
   "source": [
    "city = data[\"name\"]"
   ]
  },
  {
   "cell_type": "code",
   "execution_count": 187,
   "metadata": {},
   "outputs": [
    {
     "name": "stdout",
     "output_type": "stream",
     "text": [
      "Bangkok\n"
     ]
    }
   ],
   "source": [
    "print(city)"
   ]
  },
  {
   "cell_type": "code",
   "execution_count": 188,
   "metadata": {},
   "outputs": [],
   "source": [
    "weather_description = data[\"weather\"][0]['description']"
   ]
  },
  {
   "cell_type": "code",
   "execution_count": 189,
   "metadata": {},
   "outputs": [
    {
     "name": "stdout",
     "output_type": "stream",
     "text": [
      "few clouds\n"
     ]
    }
   ],
   "source": [
    "print(weather_description)"
   ]
  },
  {
   "cell_type": "code",
   "execution_count": 190,
   "metadata": {},
   "outputs": [],
   "source": [
    "def kelvin_to_celsius(temp_in_kelvin):\n",
    "    temp_in_celsius = temp_in_kelvin - 273.15\n",
    "    return temp_in_celsius"
   ]
  },
  {
   "cell_type": "code",
   "execution_count": 191,
   "metadata": {},
   "outputs": [],
   "source": [
    "temp_celsius = kelvin_to_celsius(data[\"main\"][\"temp\"])"
   ]
  },
  {
   "cell_type": "code",
   "execution_count": 192,
   "metadata": {},
   "outputs": [
    {
     "name": "stdout",
     "output_type": "stream",
     "text": [
      "26.689999999999998\n"
     ]
    }
   ],
   "source": [
    "print(temp_celsius)"
   ]
  },
  {
   "cell_type": "code",
   "execution_count": 193,
   "metadata": {},
   "outputs": [],
   "source": [
    "feels_like_celsius= kelvin_to_celsius(data[\"main\"][\"feels_like\"])\n",
    "min_temp_celsius = kelvin_to_celsius(data[\"main\"][\"temp_min\"])\n",
    "max_temp_celsius= kelvin_to_celsius(data[\"main\"][\"temp_max\"])"
   ]
  },
  {
   "cell_type": "code",
   "execution_count": 194,
   "metadata": {},
   "outputs": [
    {
     "name": "stdout",
     "output_type": "stream",
     "text": [
      "28.340000000000032\n",
      "26.07000000000005\n",
      "27.939999999999998\n"
     ]
    }
   ],
   "source": [
    "print(feels_like_celsius)\n",
    "print(min_temp_celsius)\n",
    "print(max_temp_celsius)"
   ]
  },
  {
   "cell_type": "code",
   "execution_count": 195,
   "metadata": {},
   "outputs": [],
   "source": [
    "pressure = data[\"main\"][\"pressure\"]\n",
    "humidity = data[\"main\"][\"humidity\"]"
   ]
  },
  {
   "cell_type": "code",
   "execution_count": 196,
   "metadata": {},
   "outputs": [
    {
     "name": "stdout",
     "output_type": "stream",
     "text": [
      "1010\n",
      "70\n"
     ]
    }
   ],
   "source": [
    "print(pressure)\n",
    "print(humidity)"
   ]
  },
  {
   "cell_type": "code",
   "execution_count": 197,
   "metadata": {},
   "outputs": [],
   "source": [
    "wind_speed = data[\"wind\"][\"speed\"]"
   ]
  },
  {
   "cell_type": "code",
   "execution_count": 198,
   "metadata": {},
   "outputs": [
    {
     "name": "stdout",
     "output_type": "stream",
     "text": [
      "4.99\n"
     ]
    }
   ],
   "source": [
    "print(wind_speed)"
   ]
  },
  {
   "cell_type": "code",
   "execution_count": 199,
   "metadata": {},
   "outputs": [],
   "source": [
    "time_of_record = datetime.utcfromtimestamp(data['dt'] + data['timezone'])\n",
    "sunrise_time = datetime.utcfromtimestamp(data['sys']['sunrise'] + data['timezone'])\n",
    "sunset_time = datetime.utcfromtimestamp(data['sys']['sunset'] + data['timezone'])"
   ]
  },
  {
   "cell_type": "code",
   "execution_count": 200,
   "metadata": {},
   "outputs": [
    {
     "name": "stdout",
     "output_type": "stream",
     "text": [
      "2024-02-09 01:18:08\n",
      "2024-02-09 06:43:35\n",
      "2024-02-09 18:20:44\n"
     ]
    }
   ],
   "source": [
    "print(time_of_record)\n",
    "print(sunrise_time)\n",
    "print(sunset_time)"
   ]
  },
  {
   "cell_type": "code",
   "execution_count": 201,
   "metadata": {},
   "outputs": [],
   "source": [
    "transformed_data = {\"Time of Record\": time_of_record,\n",
    "                        \"City\": city,\n",
    "                        \"Description\": weather_description,\n",
    "                        \"Temperature (C)\": temp_celsius,\n",
    "                        \"Feels Like (C)\": feels_like_celsius,\n",
    "                        \"Minimun Temp (C)\":min_temp_celsius,\n",
    "                        \"Maximum Temp (C)\": max_temp_celsius,\n",
    "                        \"Pressure\": pressure,\n",
    "                        \"Humidty\": humidity,\n",
    "                        \"Wind Speed\": wind_speed,\n",
    "                        \"Sunrise (Local Time)\":sunrise_time,\n",
    "                        \"Sunset (Local Time)\": sunset_time                        \n",
    "                        }"
   ]
  },
  {
   "cell_type": "code",
   "execution_count": 202,
   "metadata": {},
   "outputs": [],
   "source": [
    "transformed_data_list = [transformed_data]"
   ]
  },
  {
   "cell_type": "code",
   "execution_count": 203,
   "metadata": {},
   "outputs": [],
   "source": [
    "df_data = pd.DataFrame(transformed_data_list)"
   ]
  },
  {
   "cell_type": "code",
   "execution_count": 205,
   "metadata": {},
   "outputs": [
    {
     "data": {
      "text/html": [
       "<div>\n",
       "<style scoped>\n",
       "    .dataframe tbody tr th:only-of-type {\n",
       "        vertical-align: middle;\n",
       "    }\n",
       "\n",
       "    .dataframe tbody tr th {\n",
       "        vertical-align: top;\n",
       "    }\n",
       "\n",
       "    .dataframe thead th {\n",
       "        text-align: right;\n",
       "    }\n",
       "</style>\n",
       "<table border=\"1\" class=\"dataframe\">\n",
       "  <thead>\n",
       "    <tr style=\"text-align: right;\">\n",
       "      <th></th>\n",
       "      <th>Time of Record</th>\n",
       "      <th>City</th>\n",
       "      <th>Description</th>\n",
       "      <th>Temperature (C)</th>\n",
       "      <th>Feels Like (C)</th>\n",
       "      <th>Minimun Temp (C)</th>\n",
       "      <th>Maximum Temp (C)</th>\n",
       "      <th>Pressure</th>\n",
       "      <th>Humidty</th>\n",
       "      <th>Wind Speed</th>\n",
       "      <th>Sunrise (Local Time)</th>\n",
       "      <th>Sunset (Local Time)</th>\n",
       "    </tr>\n",
       "  </thead>\n",
       "  <tbody>\n",
       "    <tr>\n",
       "      <th>0</th>\n",
       "      <td>2024-02-09 01:18:08</td>\n",
       "      <td>Bangkok</td>\n",
       "      <td>few clouds</td>\n",
       "      <td>26.69</td>\n",
       "      <td>28.34</td>\n",
       "      <td>26.07</td>\n",
       "      <td>27.94</td>\n",
       "      <td>1010</td>\n",
       "      <td>70</td>\n",
       "      <td>4.99</td>\n",
       "      <td>2024-02-09 06:43:35</td>\n",
       "      <td>2024-02-09 18:20:44</td>\n",
       "    </tr>\n",
       "  </tbody>\n",
       "</table>\n",
       "</div>"
      ],
      "text/plain": [
       "       Time of Record     City Description  Temperature (C)  Feels Like (C)  \\\n",
       "0 2024-02-09 01:18:08  Bangkok  few clouds            26.69           28.34   \n",
       "\n",
       "   Minimun Temp (C)  Maximum Temp (C)  Pressure  Humidty  Wind Speed  \\\n",
       "0             26.07             27.94      1010       70        4.99   \n",
       "\n",
       "  Sunrise (Local Time) Sunset (Local Time)  \n",
       "0  2024-02-09 06:43:35 2024-02-09 18:20:44  "
      ]
     },
     "execution_count": 205,
     "metadata": {},
     "output_type": "execute_result"
    }
   ],
   "source": [
    "df_data.head()"
   ]
  },
  {
   "cell_type": "code",
   "execution_count": 206,
   "metadata": {},
   "outputs": [
    {
     "name": "stdout",
     "output_type": "stream",
     "text": [
      "<class 'pandas.core.frame.DataFrame'>\n",
      "RangeIndex: 1 entries, 0 to 0\n",
      "Data columns (total 12 columns):\n",
      " #   Column                Non-Null Count  Dtype         \n",
      "---  ------                --------------  -----         \n",
      " 0   Time of Record        1 non-null      datetime64[ns]\n",
      " 1   City                  1 non-null      object        \n",
      " 2   Description           1 non-null      object        \n",
      " 3   Temperature (C)       1 non-null      float64       \n",
      " 4   Feels Like (C)        1 non-null      float64       \n",
      " 5   Minimun Temp (C)      1 non-null      float64       \n",
      " 6   Maximum Temp (C)      1 non-null      float64       \n",
      " 7   Pressure              1 non-null      int64         \n",
      " 8   Humidty               1 non-null      int64         \n",
      " 9   Wind Speed            1 non-null      float64       \n",
      " 10  Sunrise (Local Time)  1 non-null      datetime64[ns]\n",
      " 11  Sunset (Local Time)   1 non-null      datetime64[ns]\n",
      "dtypes: datetime64[ns](3), float64(5), int64(2), object(2)\n",
      "memory usage: 228.0+ bytes\n"
     ]
    }
   ],
   "source": [
    "df_data.info()"
   ]
  }
 ],
 "metadata": {
  "kernelspec": {
   "display_name": "Python 3",
   "language": "python",
   "name": "python3"
  },
  "language_info": {
   "codemirror_mode": {
    "name": "ipython",
    "version": 3
   },
   "file_extension": ".py",
   "mimetype": "text/x-python",
   "name": "python",
   "nbconvert_exporter": "python",
   "pygments_lexer": "ipython3",
   "version": "3.11.8"
  }
 },
 "nbformat": 4,
 "nbformat_minor": 2
}
